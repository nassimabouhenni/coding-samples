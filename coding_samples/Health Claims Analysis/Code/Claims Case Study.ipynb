{
 "cells": [
  {
   "cell_type": "code",
   "execution_count": 1,
   "id": "69bcb1a7",
   "metadata": {},
   "outputs": [],
   "source": [
    "# Import the necessary libraries\n",
    "\n",
    "import sqlite3\n",
    "import pandas as pd\n",
    "from sklearn.model_selection import train_test_split\n",
    "from sklearn.preprocessing import LabelEncoder\n",
    "from sklearn.preprocessing import OrdinalEncoder\n",
    "from sklearn.feature_selection import SelectKBest\n",
    "from sklearn.feature_selection import chi2\n",
    "from sklearn.linear_model import LogisticRegression\n",
    "from sklearn import metrics\n",
    "from imblearn.over_sampling import SMOTE\n",
    "import matplotlib\n",
    "import matplotlib.pyplot as plt\n",
    "import numpy as np\n",
    "import seaborn as sns\n",
    "from datetime import datetime, date"
   ]
  },
  {
   "cell_type": "code",
   "execution_count": 2,
   "id": "e4f63a17",
   "metadata": {},
   "outputs": [],
   "source": [
    "# Create a connection to the database\n",
    "\n",
    "path_name = \"./engagement.db\"\n",
    "conn = sqlite3.connect(path_name)"
   ]
  },
  {
   "cell_type": "code",
   "execution_count": 3,
   "id": "dc662328",
   "metadata": {},
   "outputs": [],
   "source": [
    "# SQL functions\n",
    "\n",
    "sql = lambda query: pd.read_sql_query(query, conn)\n",
    "sql_to_clipboard = lambda query: sql(query).to_clipboard(index=False)"
   ]
  },
  {
   "cell_type": "code",
   "execution_count": 4,
   "id": "739ab525",
   "metadata": {},
   "outputs": [],
   "source": [
    "# Set coherent theme for visualizations\n",
    "\n",
    "sns.set_theme(style=\"darkgrid\")\n",
    "sns.set_context(\"notebook\", font_scale=1.5) "
   ]
  },
  {
   "cell_type": "code",
   "execution_count": 5,
   "id": "fa190974",
   "metadata": {},
   "outputs": [
    {
     "ename": "DatabaseError",
     "evalue": "Execution failed on sql '\n    SELECT eligibility.*, client_metadata.income_range, \n    client_metadata.hr_engagement, accounts.account_id\n    FROM \n    eligibility JOIN client_metadata\n    ON eligibility.client = client_metadata.client\n    LEFT JOIN accounts \n    ON eligibility.eligibility_id = accounts.eligibility_id;\n': no such table: eligibility",
     "output_type": "error",
     "traceback": [
      "\u001b[0;31m---------------------------------------------------------------------------\u001b[0m",
      "\u001b[0;31mOperationalError\u001b[0m                          Traceback (most recent call last)",
      "\u001b[0;32m~/opt/anaconda3/lib/python3.8/site-packages/pandas/io/sql.py\u001b[0m in \u001b[0;36mexecute\u001b[0;34m(self, *args, **kwargs)\u001b[0m\n\u001b[1;32m   1724\u001b[0m         \u001b[0;32mtry\u001b[0m\u001b[0;34m:\u001b[0m\u001b[0;34m\u001b[0m\u001b[0;34m\u001b[0m\u001b[0m\n\u001b[0;32m-> 1725\u001b[0;31m             \u001b[0mcur\u001b[0m\u001b[0;34m.\u001b[0m\u001b[0mexecute\u001b[0m\u001b[0;34m(\u001b[0m\u001b[0;34m*\u001b[0m\u001b[0margs\u001b[0m\u001b[0;34m,\u001b[0m \u001b[0;34m**\u001b[0m\u001b[0mkwargs\u001b[0m\u001b[0;34m)\u001b[0m\u001b[0;34m\u001b[0m\u001b[0;34m\u001b[0m\u001b[0m\n\u001b[0m\u001b[1;32m   1726\u001b[0m             \u001b[0;32mreturn\u001b[0m \u001b[0mcur\u001b[0m\u001b[0;34m\u001b[0m\u001b[0;34m\u001b[0m\u001b[0m\n",
      "\u001b[0;31mOperationalError\u001b[0m: no such table: eligibility",
      "\nThe above exception was the direct cause of the following exception:\n",
      "\u001b[0;31mDatabaseError\u001b[0m                             Traceback (most recent call last)",
      "\u001b[0;32m<ipython-input-5-fe653045dc1c>\u001b[0m in \u001b[0;36m<module>\u001b[0;34m\u001b[0m\n\u001b[1;32m      1\u001b[0m \u001b[0;31m# Create dataframe of features vs. enrollment\u001b[0m\u001b[0;34m\u001b[0m\u001b[0;34m\u001b[0m\u001b[0;34m\u001b[0m\u001b[0m\n\u001b[1;32m      2\u001b[0m \u001b[0;34m\u001b[0m\u001b[0m\n\u001b[0;32m----> 3\u001b[0;31m eng_factors = sql(\n\u001b[0m\u001b[1;32m      4\u001b[0m \"\"\"\n\u001b[1;32m      5\u001b[0m     \u001b[0mSELECT\u001b[0m \u001b[0meligibility\u001b[0m\u001b[0;34m.\u001b[0m\u001b[0;34m*\u001b[0m\u001b[0;34m,\u001b[0m \u001b[0mclient_metadata\u001b[0m\u001b[0;34m.\u001b[0m\u001b[0mincome_range\u001b[0m\u001b[0;34m,\u001b[0m\u001b[0;34m\u001b[0m\u001b[0;34m\u001b[0m\u001b[0m\n",
      "\u001b[0;32m<ipython-input-3-f33bc96c55d6>\u001b[0m in \u001b[0;36m<lambda>\u001b[0;34m(query)\u001b[0m\n\u001b[1;32m      1\u001b[0m \u001b[0;31m# SQL functions\u001b[0m\u001b[0;34m\u001b[0m\u001b[0;34m\u001b[0m\u001b[0;34m\u001b[0m\u001b[0m\n\u001b[1;32m      2\u001b[0m \u001b[0;34m\u001b[0m\u001b[0m\n\u001b[0;32m----> 3\u001b[0;31m \u001b[0msql\u001b[0m \u001b[0;34m=\u001b[0m \u001b[0;32mlambda\u001b[0m \u001b[0mquery\u001b[0m\u001b[0;34m:\u001b[0m \u001b[0mpd\u001b[0m\u001b[0;34m.\u001b[0m\u001b[0mread_sql_query\u001b[0m\u001b[0;34m(\u001b[0m\u001b[0mquery\u001b[0m\u001b[0;34m,\u001b[0m \u001b[0mconn\u001b[0m\u001b[0;34m)\u001b[0m\u001b[0;34m\u001b[0m\u001b[0;34m\u001b[0m\u001b[0m\n\u001b[0m\u001b[1;32m      4\u001b[0m \u001b[0msql_to_clipboard\u001b[0m \u001b[0;34m=\u001b[0m \u001b[0;32mlambda\u001b[0m \u001b[0mquery\u001b[0m\u001b[0;34m:\u001b[0m \u001b[0msql\u001b[0m\u001b[0;34m(\u001b[0m\u001b[0mquery\u001b[0m\u001b[0;34m)\u001b[0m\u001b[0;34m.\u001b[0m\u001b[0mto_clipboard\u001b[0m\u001b[0;34m(\u001b[0m\u001b[0mindex\u001b[0m\u001b[0;34m=\u001b[0m\u001b[0;32mFalse\u001b[0m\u001b[0;34m)\u001b[0m\u001b[0;34m\u001b[0m\u001b[0;34m\u001b[0m\u001b[0m\n",
      "\u001b[0;32m~/opt/anaconda3/lib/python3.8/site-packages/pandas/io/sql.py\u001b[0m in \u001b[0;36mread_sql_query\u001b[0;34m(sql, con, index_col, coerce_float, params, parse_dates, chunksize)\u001b[0m\n\u001b[1;32m    386\u001b[0m     \"\"\"\n\u001b[1;32m    387\u001b[0m     \u001b[0mpandas_sql\u001b[0m \u001b[0;34m=\u001b[0m \u001b[0mpandasSQL_builder\u001b[0m\u001b[0;34m(\u001b[0m\u001b[0mcon\u001b[0m\u001b[0;34m)\u001b[0m\u001b[0;34m\u001b[0m\u001b[0;34m\u001b[0m\u001b[0m\n\u001b[0;32m--> 388\u001b[0;31m     return pandas_sql.read_query(\n\u001b[0m\u001b[1;32m    389\u001b[0m         \u001b[0msql\u001b[0m\u001b[0;34m,\u001b[0m\u001b[0;34m\u001b[0m\u001b[0;34m\u001b[0m\u001b[0m\n\u001b[1;32m    390\u001b[0m         \u001b[0mindex_col\u001b[0m\u001b[0;34m=\u001b[0m\u001b[0mindex_col\u001b[0m\u001b[0;34m,\u001b[0m\u001b[0;34m\u001b[0m\u001b[0;34m\u001b[0m\u001b[0m\n",
      "\u001b[0;32m~/opt/anaconda3/lib/python3.8/site-packages/pandas/io/sql.py\u001b[0m in \u001b[0;36mread_query\u001b[0;34m(self, sql, index_col, coerce_float, params, parse_dates, chunksize)\u001b[0m\n\u001b[1;32m   1769\u001b[0m \u001b[0;34m\u001b[0m\u001b[0m\n\u001b[1;32m   1770\u001b[0m         \u001b[0margs\u001b[0m \u001b[0;34m=\u001b[0m \u001b[0m_convert_params\u001b[0m\u001b[0;34m(\u001b[0m\u001b[0msql\u001b[0m\u001b[0;34m,\u001b[0m \u001b[0mparams\u001b[0m\u001b[0;34m)\u001b[0m\u001b[0;34m\u001b[0m\u001b[0;34m\u001b[0m\u001b[0m\n\u001b[0;32m-> 1771\u001b[0;31m         \u001b[0mcursor\u001b[0m \u001b[0;34m=\u001b[0m \u001b[0mself\u001b[0m\u001b[0;34m.\u001b[0m\u001b[0mexecute\u001b[0m\u001b[0;34m(\u001b[0m\u001b[0;34m*\u001b[0m\u001b[0margs\u001b[0m\u001b[0;34m)\u001b[0m\u001b[0;34m\u001b[0m\u001b[0;34m\u001b[0m\u001b[0m\n\u001b[0m\u001b[1;32m   1772\u001b[0m         \u001b[0mcolumns\u001b[0m \u001b[0;34m=\u001b[0m \u001b[0;34m[\u001b[0m\u001b[0mcol_desc\u001b[0m\u001b[0;34m[\u001b[0m\u001b[0;36m0\u001b[0m\u001b[0;34m]\u001b[0m \u001b[0;32mfor\u001b[0m \u001b[0mcol_desc\u001b[0m \u001b[0;32min\u001b[0m \u001b[0mcursor\u001b[0m\u001b[0;34m.\u001b[0m\u001b[0mdescription\u001b[0m\u001b[0;34m]\u001b[0m\u001b[0;34m\u001b[0m\u001b[0;34m\u001b[0m\u001b[0m\n\u001b[1;32m   1773\u001b[0m \u001b[0;34m\u001b[0m\u001b[0m\n",
      "\u001b[0;32m~/opt/anaconda3/lib/python3.8/site-packages/pandas/io/sql.py\u001b[0m in \u001b[0;36mexecute\u001b[0;34m(self, *args, **kwargs)\u001b[0m\n\u001b[1;32m   1735\u001b[0m \u001b[0;34m\u001b[0m\u001b[0m\n\u001b[1;32m   1736\u001b[0m             \u001b[0mex\u001b[0m \u001b[0;34m=\u001b[0m \u001b[0mDatabaseError\u001b[0m\u001b[0;34m(\u001b[0m\u001b[0;34mf\"Execution failed on sql '{args[0]}': {exc}\"\u001b[0m\u001b[0;34m)\u001b[0m\u001b[0;34m\u001b[0m\u001b[0;34m\u001b[0m\u001b[0m\n\u001b[0;32m-> 1737\u001b[0;31m             \u001b[0;32mraise\u001b[0m \u001b[0mex\u001b[0m \u001b[0;32mfrom\u001b[0m \u001b[0mexc\u001b[0m\u001b[0;34m\u001b[0m\u001b[0;34m\u001b[0m\u001b[0m\n\u001b[0m\u001b[1;32m   1738\u001b[0m \u001b[0;34m\u001b[0m\u001b[0m\n\u001b[1;32m   1739\u001b[0m     \u001b[0;34m@\u001b[0m\u001b[0mstaticmethod\u001b[0m\u001b[0;34m\u001b[0m\u001b[0;34m\u001b[0m\u001b[0m\n",
      "\u001b[0;31mDatabaseError\u001b[0m: Execution failed on sql '\n    SELECT eligibility.*, client_metadata.income_range, \n    client_metadata.hr_engagement, accounts.account_id\n    FROM \n    eligibility JOIN client_metadata\n    ON eligibility.client = client_metadata.client\n    LEFT JOIN accounts \n    ON eligibility.eligibility_id = accounts.eligibility_id;\n': no such table: eligibility"
     ]
    }
   ],
   "source": [
    "# Create dataframe of features vs. enrollment\n",
    "\n",
    "eng_factors = sql(\n",
    "\"\"\"\n",
    "    SELECT eligibility.*, client_metadata.income_range, \n",
    "    client_metadata.hr_engagement, accounts.account_id\n",
    "    FROM \n",
    "    eligibility JOIN client_metadata\n",
    "    ON eligibility.client = client_metadata.client\n",
    "    LEFT JOIN accounts \n",
    "    ON eligibility.eligibility_id = accounts.eligibility_id;\n",
    "\"\"\")"
   ]
  },
  {
   "cell_type": "code",
   "execution_count": null,
   "id": "df405215",
   "metadata": {},
   "outputs": [],
   "source": [
    "# Change enrollment factors dataframe to input & output dataframes of categorical values\n",
    "# & prepare date dataframes \n",
    "\n",
    "eng_factors['account_id'] = eng_factors['account_id'].notnull().astype('int')\n",
    "eng_factors = eng_factors.rename(columns = {'account_id': 'account'}).set_index('eligibility_id') # Set [null values] = 0, [evidence of account] = 1\n",
    "edf = eng_factors.drop(columns = ['sex','family_status', 'income_range', 'hr_engagement']) # Date/continuous variables\n",
    "ef = eng_factors.drop(columns = ['account', 'benefits_start_date', 'date_of_birth']) # Ensure all variables treated as categorical variables\n",
    "e = eng_factors['account']"
   ]
  },
  {
   "cell_type": "code",
   "execution_count": null,
   "id": "d331c777",
   "metadata": {},
   "outputs": [],
   "source": [
    "# Determine impact of start time (function)\n",
    "\n",
    "def start_func(year):\n",
    "    year = datetime.strptime(year, \"%Y-%m-%d\").date()\n",
    "    return year\n"
   ]
  },
  {
   "cell_type": "code",
   "execution_count": null,
   "id": "740b28fb",
   "metadata": {},
   "outputs": [],
   "source": [
    "# Determine impact of start date (visualization)\n",
    "edf.benefits_start_date = pd.to_datetime(edf.benefits_start_date).astype('str')\n",
    "edf['benefits_start_date'] = edf.benefits_start_date.apply(start_func)\n",
    "\n",
    "fig, ax = plt.subplots(figsize=(12, 12))\n",
    "ax = sns.lineplot(data=edf, x=\"benefits_start_date\", y=\"account\", hue=\"client\", palette='tab10')\n",
    "ax.set(ylabel='Average Enrollment', xlabel='Start Date of Benefits', title = 'Enrollment v. Start Date')\n",
    "plt.show()\n",
    "fig.savefig('viz/start_date.png')\n",
    "\n",
    "# => enrollment dependent on client, not start date"
   ]
  },
  {
   "cell_type": "code",
   "execution_count": null,
   "id": "ec33025e",
   "metadata": {},
   "outputs": [],
   "source": [
    "# Determine impact of age (function)\n",
    "\n",
    "def age_func(born):\n",
    "    born = datetime.strptime(born, \"%Y-%m-%d\").date()\n",
    "    today = date.today()\n",
    "    return today.year - born.year - ((today.month, \n",
    "                                      today.day) < (born.month, \n",
    "                                                    born.day))"
   ]
  },
  {
   "cell_type": "code",
   "execution_count": null,
   "id": "6c487f95",
   "metadata": {},
   "outputs": [],
   "source": [
    "# Determine impact of age (visual)\n",
    "\n",
    "edf.date_of_birth = pd.to_datetime(edf.date_of_birth).astype('str')\n",
    "edf['age'] = edf.date_of_birth.apply(age_func)\n",
    "\n",
    "\n",
    "ax = sns.displot(edf, x=\"age\", hue=\"account\", element=\"step\")\n",
    "ax.set(ylabel='Average Enrollment', xlabel='Age', title = 'Enrollment v. Age')\n",
    "plt.savefig('viz/age.png')"
   ]
  },
  {
   "cell_type": "code",
   "execution_count": null,
   "id": "5385a534",
   "metadata": {},
   "outputs": [],
   "source": [
    "# Regression analysis of age (SMOTE as data is imbalanced)\n",
    "\n",
    "X = edf['age'].to_numpy()\n",
    "X = X.reshape(-1,1)\n",
    "y = edf['account']\n",
    "\n",
    "# SMOTE\n",
    "\n",
    "oversample = SMOTE()\n",
    "X, y = oversample.fit_resample(X, y)\n",
    "X_train, X_test, y_train, y_test = train_test_split(X, y, test_size=0.33, random_state=1)\n",
    "\n",
    "# Regression\n",
    "\n",
    "logistic_regression= LogisticRegression()\n",
    "logistic_regression.fit(X_train,y_train)\n",
    "y_pred=logistic_regression.predict(X_test)\n",
    "\n",
    "confusion_matrix = pd.crosstab(y_test, y_pred, rownames=['Actual'], colnames=['Predicted'])\n",
    "sns.heatmap(confusion_matrix, annot=True)\n",
    "print('Accuracy: ',metrics.accuracy_score(y_test, y_pred))\n",
    "plt.savefig('viz/age_regression.png')"
   ]
  },
  {
   "cell_type": "code",
   "execution_count": null,
   "id": "0cec68cf",
   "metadata": {},
   "outputs": [],
   "source": [
    "# Analysis of categorical values\n",
    "\n",
    "# Chi-squared test of all categorical features\n",
    "\n",
    "le = LabelEncoder()\n",
    "oe = OrdinalEncoder()\n",
    "ef.sex = le.fit_transform(ef.sex)\n",
    "ef.client = le.fit_transform(ef.client)\n",
    "ef.income_range = le.fit_transform(ef.income_range)\n",
    "ef.hr_engagement = le.fit_transform(ef.hr_engagement)\n",
    "chi_scores = chi2(ef,e)"
   ]
  },
  {
   "cell_type": "code",
   "execution_count": null,
   "id": "5e586ed7",
   "metadata": {},
   "outputs": [],
   "source": [
    "# Isolate p_values & plot (higher p-value indicates independence from engagement array)\n",
    "\n",
    "p_values = pd.Series(chi_scores[1],index = ef.columns)\n",
    "p_values.sort_values(ascending = False , inplace = True)\n",
    "\n",
    "fig = plt.figure()\n",
    "ax = p_values.plot.bar(x='Feature', y='p-value')\n",
    "ax.set(title = 'P-values of Features')\n",
    "fig.savefig('viz/P-value_X2.png')"
   ]
  },
  {
   "cell_type": "code",
   "execution_count": null,
   "id": "7f038a72",
   "metadata": {},
   "outputs": [],
   "source": [
    "# Plot features with significant p-values (<0.5)\n",
    "\n",
    "# Plot HR engagement\n",
    "\n",
    "fig = plt.figure(figsize=(8, 6))\n",
    "ax = sns.countplot(x=\"hr_engagement\", hue = \"account\", data=eng_factors)\n",
    "ax.set(ylabel='# of Users', xlabel='HR Engagement', title = 'Affect of HR Engagement on User Enrollment')\n",
    "fig.savefig('viz/HR_engagement.png')"
   ]
  },
  {
   "cell_type": "code",
   "execution_count": null,
   "id": "c1d522a7",
   "metadata": {},
   "outputs": [],
   "source": [
    "# Plot Client\n",
    "\n",
    "fig = plt.figure(figsize=(8, 6))\n",
    "ax = sns.countplot(x=\"client\", hue = \"account\", data=eng_factors)\n",
    "ax.set(ylabel='# of Users', xlabel='Client', title = 'User Enrollment Based on Client')\n",
    "fig.savefig('viz/client.png')"
   ]
  },
  {
   "cell_type": "code",
   "execution_count": null,
   "id": "f9bb636f",
   "metadata": {},
   "outputs": [],
   "source": [
    "# Plot Income Range\n",
    "\n",
    "fig = plt.figure(figsize=(15, 6))\n",
    "ax = sns.countplot(x=\"income_range\", hue = \"account\", data=eng_factors)\n",
    "ax.set(ylabel='# of Users', xlabel='Income Range', title = 'Affect of Income on User Enrollment')\n",
    "fig.savefig('viz/income_range.png')"
   ]
  },
  {
   "cell_type": "code",
   "execution_count": null,
   "id": "374daa12",
   "metadata": {},
   "outputs": [],
   "source": [
    "# Feature selection using Chi-squared test\n",
    "\n",
    "ef = ef.to_numpy()\n",
    "e = e.to_numpy() \n",
    "ef_train, ef_test, e_train, e_test = train_test_split(ef, e, test_size=0.33, random_state=1)"
   ]
  },
  {
   "cell_type": "code",
   "execution_count": null,
   "id": "f63a7ecf",
   "metadata": {},
   "outputs": [],
   "source": [
    "# Prepare input data\n",
    "\n",
    "oe.fit(ef_train)\n",
    "ef_train_enc = oe.transform(ef_train)\n",
    "ef_test_enc = oe.transform(ef_test)"
   ]
  },
  {
   "cell_type": "code",
   "execution_count": null,
   "id": "e2b40e19",
   "metadata": {},
   "outputs": [],
   "source": [
    "# Prepare output data\n",
    "\n",
    "le.fit(e_train)\n",
    "e_train_enc = le.transform(e_train)\n",
    "e_test_enc = le.transform(e_test)"
   ]
  },
  {
   "cell_type": "code",
   "execution_count": null,
   "id": "eb1a8fb0",
   "metadata": {},
   "outputs": [],
   "source": [
    "# Feature selection\n",
    "\n",
    "fs = SelectKBest(score_func=chi2, k='all')\n",
    "print('Test', ef_test.shape, e_test.shape)\n",
    "fs.fit(ef_train_enc, e_train_enc)\n",
    "ef_train_fs = fs.transform(ef_train)\n",
    "ef_test_fs = fs.transform(ef_test)"
   ]
  },
  {
   "cell_type": "code",
   "execution_count": null,
   "id": "37a8b551",
   "metadata": {},
   "outputs": [],
   "source": [
    "# Plot feature significance scores\n",
    "\n",
    "fig = plt.figure(figsize=(8,6))\n",
    "for i in range(len(fs.scores_)):\n",
    "    print('Feature %d: %f' % (i, fs.scores_[i]))\n",
    "# plot the scores\n",
    "plt.bar([i for i in range(len(fs.scores_))], fs.scores_)\n",
    "plt.show()\n",
    "fig.savefig('viz/psignificance.png')"
   ]
  },
  {
   "cell_type": "code",
   "execution_count": null,
   "id": "548dc67a",
   "metadata": {},
   "outputs": [],
   "source": [
    "# Determine activity among clients\n",
    "\n",
    "# Create dataframe of activity data from active users & their respective clients\n",
    "\n",
    "spec_df = sql(\n",
    "\"\"\"\n",
    "    SELECT eligibility.client, accounts.account_id\n",
    "    FROM eligibility JOIN accounts\n",
    "    ON eligibility.eligibility_id = accounts.eligibility_id;\n",
    "\"\"\")\n",
    "account_eng = sql(\n",
    "\"\"\"\n",
    "    SELECT account_id, \n",
    "    COUNT(*) AS `activity` \n",
    "    FROM recommendations \n",
    "    GROUP BY account_id;\n",
    "\"\"\"\n",
    ")\n",
    "\n",
    "account_eng.set_index('account_id')\n",
    "spec_df.set_index('account_id')\n",
    "ae = pd.merge(account_eng, spec_df, how='inner', on= 'account_id')\n",
    "\n",
    "# Create dataframe of activity data from active users & their SEF\n",
    "\n",
    "sf_df = sql(\n",
    "\"\"\"\n",
    "    SELECT eligibility.date_of_birth, eligibility.sex, eligibility.family_status, accounts.account_id\n",
    "    FROM eligibility JOIN accounts\n",
    "    ON eligibility.eligibility_id = accounts.eligibility_id;\n",
    "\"\"\")\n",
    "\n",
    "act_sf = pd.merge(sf_df, account_eng, how='inner', on='account_id')\n",
    "act_sf.date_of_birth = pd.to_datetime(act_sf.date_of_birth).astype('str')\n",
    "act_sf['age'] = act_sf.date_of_birth.apply(age_func)\n",
    "act_sf"
   ]
  },
  {
   "cell_type": "code",
   "execution_count": null,
   "id": "199da897",
   "metadata": {},
   "outputs": [],
   "source": [
    "# Analysis of age & activity\n",
    "\n",
    "sns.scatterplot(data=act_sf, x=\"age\", y=\"activity\")\n",
    "sns.catplot(data=act_sf, x=\"activity\", y=\"age\", kind='box')\n",
    "sns.displot(act_sf, x=\"activity\", hue=\"sex\", element=\"step\")\n",
    "\n",
    "# => mostly evenly distributed, age/sex/family_status is not a relevant feature"
   ]
  },
  {
   "cell_type": "code",
   "execution_count": null,
   "id": "12e2daed",
   "metadata": {},
   "outputs": [],
   "source": [
    "# Analysis of categorical values -> numerical output (ANOVA)\n",
    "\n",
    "import statsmodels.api as sm\n",
    "from statsmodels.formula.api import ols"
   ]
  },
  {
   "cell_type": "code",
   "execution_count": null,
   "id": "0dadc7ab",
   "metadata": {},
   "outputs": [],
   "source": [
    "# User-related variables\n",
    "\n",
    "model = ols('activity ~ C(sex) + C(family_status) + C(sex):C(family_status)', data=act_sf).fit()\n",
    "sm.stats.anova_lm(model, typ=2)"
   ]
  },
  {
   "cell_type": "code",
   "execution_count": null,
   "id": "b886ea8c",
   "metadata": {},
   "outputs": [],
   "source": [
    "A = ae.loc[ae['client'] == 'Client A']\n",
    "B = ae.loc[ae['client'] == 'Client B']\n",
    "C = ae.loc[ae['client'] == 'Client C']\n",
    "D = ae.loc[ae['client'] == 'Client D']\n",
    "E = ae.loc[ae['client'] == 'Client E']\n",
    "F = ae.loc[ae['client'] == 'Client F']\n"
   ]
  },
  {
   "cell_type": "code",
   "execution_count": null,
   "id": "8a30c852",
   "metadata": {},
   "outputs": [],
   "source": [
    "# Client-related ANOVA\n",
    "\n",
    "from scipy.stats import f_oneway\n",
    "\n",
    "f_oneway(A.activity, B.activity, C.activity, D.activity, E.activity, F.activity)"
   ]
  },
  {
   "cell_type": "code",
   "execution_count": null,
   "id": "e11f08ad",
   "metadata": {},
   "outputs": [],
   "source": [
    "# Visualize user activity by client\n",
    "\n",
    "activity = act_sf.activity\n",
    "act_sf = act_sf.drop(columns = ['date_of_birth', 'activity']).set_index('account_id')\n",
    "\n",
    "sns.catplot(x=\"client\", y=\"activity\", kind=\"box\", data=ae, palette='flare', aspect = 2)\n",
    "plt.savefig('viz/activity_client.png')"
   ]
  },
  {
   "cell_type": "code",
   "execution_count": null,
   "id": "f502a53e",
   "metadata": {},
   "outputs": [],
   "source": [
    "# Specialty analysis\n",
    "\n",
    "# Count # of accepted claims by specialty \n",
    "acc = sql(\n",
    "\"\"\"\n",
    "        SELECT claims.amount, providers.specialty FROM claims LEFT JOIN providers\n",
    "        ON claims.provider_id = providers.provider_id;\n",
    "\"\"\"\n",
    ")"
   ]
  },
  {
   "cell_type": "code",
   "execution_count": null,
   "id": "07e38725",
   "metadata": {},
   "outputs": [],
   "source": [
    "# Dollar amount paid by specialty \n",
    "\n",
    "acc_sum = acc.groupby([\"specialty\"]).amount.sum().reset_index().to_csv('acc_sum.csv')\n",
    "\n",
    "fig = plt.figure(figsize = (30, 6))\n",
    "ax = sns.stripplot(x=\"specialty\", y=\"amount\", data=acc)\n",
    "ax.set(ylabel='Claims Paid ($)', xlabel='Specialty', title = 'Claim Amount by Specialty')\n",
    "fig.savefig('viz/claim_spec.png')"
   ]
  },
  {
   "cell_type": "code",
   "execution_count": null,
   "id": "b149289c",
   "metadata": {},
   "outputs": [],
   "source": [
    "# Percent of claims paid by specialty\n",
    "\n",
    "percent_claims = sql(\n",
    "\"\"\"\n",
    "    SELECT specialty, \n",
    "    COUNT(*) AS percent \n",
    "    FROM providers \n",
    "    GROUP BY specialty;\n",
    "\"\"\"\n",
    ")\n",
    "\n",
    "percent_claims['percent'] = (percent_claims['percent'] / percent_claims['percent'].sum()) * 100\n",
    "percent_claims\n",
    "percent_claims.to_csv('per_claims.csv')\n",
    "\n"
   ]
  }
 ],
 "metadata": {
  "kernelspec": {
   "display_name": "Python 3",
   "language": "python",
   "name": "python3"
  },
  "language_info": {
   "codemirror_mode": {
    "name": "ipython",
    "version": 3
   },
   "file_extension": ".py",
   "mimetype": "text/x-python",
   "name": "python",
   "nbconvert_exporter": "python",
   "pygments_lexer": "ipython3",
   "version": "3.8.8"
  }
 },
 "nbformat": 4,
 "nbformat_minor": 5
}
